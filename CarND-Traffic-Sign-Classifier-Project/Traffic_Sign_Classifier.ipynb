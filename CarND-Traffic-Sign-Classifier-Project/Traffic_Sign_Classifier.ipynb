{
 "cells": [
  {
   "cell_type": "markdown",
   "metadata": {},
   "source": [
    "# Self-Driving Car Engineer Nanodegree\n",
    "\n",
    "## Deep Learning\n",
    "\n",
    "## Project: Build a Traffic Sign Recognition Classifier\n",
    "\n",
    "In this notebook, a template is provided for you to implement your functionality in stages, which is required to successfully complete this project. If additional code is required that cannot be included in the notebook, be sure that the Python code is successfully imported and included in your submission if necessary. \n",
    "\n",
    "> **Note**: Once you have completed all of the code implementations, you need to finalize your work by exporting the iPython Notebook as an HTML document. Before exporting the notebook to html, all of the code cells need to have been run so that reviewers can see the final implementation and output. You can then export the notebook by using the menu above and navigating to  \\n\",\n",
    "    \"**File -> Download as -> HTML (.html)**. Include the finished document along with this notebook as your submission. \n",
    "\n",
    "In addition to implementing code, there is a writeup to complete. The writeup should be completed in a separate file, which can be either a markdown file or a pdf document. There is a [write up template](https://github.com/udacity/CarND-Traffic-Sign-Classifier-Project/blob/master/writeup_template.md) that can be used to guide the writing process. Completing the code template and writeup template will cover all of the [rubric points](https://review.udacity.com/#!/rubrics/481/view) for this project.\n",
    "\n",
    "The [rubric](https://review.udacity.com/#!/rubrics/481/view) contains \"Stand Out Suggestions\" for enhancing the project beyond the minimum requirements. The stand out suggestions are optional. If you decide to pursue the \"stand out suggestions\", you can include the code in this Ipython notebook and also discuss the results in the writeup file.\n",
    "\n",
    "\n",
    ">**Note:** Code and Markdown cells can be executed using the **Shift + Enter** keyboard shortcut. In addition, Markdown cells can be edited by typically double-clicking the cell to enter edit mode."
   ]
  },
  {
   "cell_type": "markdown",
   "metadata": {},
   "source": [
    "---\n",
    "## Step 0: Load The Data"
   ]
  },
  {
   "cell_type": "code",
   "execution_count": 1,
   "metadata": {
    "collapsed": true
   },
   "outputs": [],
   "source": [
    "# Load pickled data\n",
    "import pickle\n",
    "\n",
    "# TODO: Fill this in based on where you saved the training and testing data\n",
    "\n",
    "training_file = \"train.p\"\n",
    "validation_file= \"valid.p\"\n",
    "testing_file = \"test.p\"\n",
    "\n",
    "with open(training_file, mode='rb') as f:\n",
    "    train = pickle.load(f)\n",
    "with open(validation_file, mode='rb') as f:\n",
    "    valid = pickle.load(f)\n",
    "with open(testing_file, mode='rb') as f:\n",
    "    test = pickle.load(f)\n",
    "    \n",
    "X_train, y_train = train['features'], train['labels']\n",
    "X_valid, y_valid = valid['features'], valid['labels']\n",
    "X_test, y_test = test['features'], test['labels']"
   ]
  },
  {
   "cell_type": "markdown",
   "metadata": {},
   "source": [
    "---\n",
    "\n",
    "## Step 1: Dataset Summary & Exploration\n",
    "\n",
    "The pickled data is a dictionary with 4 key/value pairs:\n",
    "\n",
    "- `'features'` is a 4D array containing raw pixel data of the traffic sign images, (num examples, width, height, channels).\n",
    "- `'labels'` is a 1D array containing the label/class id of the traffic sign. The file `signnames.csv` contains id -> name mappings for each id.\n",
    "- `'sizes'` is a list containing tuples, (width, height) representing the original width and height the image.\n",
    "- `'coords'` is a list containing tuples, (x1, y1, x2, y2) representing coordinates of a bounding box around the sign in the image. **THESE COORDINATES ASSUME THE ORIGINAL IMAGE. THE PICKLED DATA CONTAINS RESIZED VERSIONS (32 by 32) OF THESE IMAGES**\n",
    "\n",
    "Complete the basic data summary below. Use python, numpy and/or pandas methods to calculate the data summary rather than hard coding the results. For example, the [pandas shape method](http://pandas.pydata.org/pandas-docs/stable/generated/pandas.DataFrame.shape.html) might be useful for calculating some of the summary results. "
   ]
  },
  {
   "cell_type": "markdown",
   "metadata": {},
   "source": [
    "### Provide a Basic Summary of the Data Set Using Python, Numpy and/or Pandas"
   ]
  },
  {
   "cell_type": "code",
   "execution_count": 2,
   "metadata": {},
   "outputs": [
    {
     "name": "stdout",
     "output_type": "stream",
     "text": [
      "Number of training examples = 34799\n",
      "Number of testing examples = 12630\n",
      "Image data shape = [32, 32]\n",
      "Number of classes = 43\n"
     ]
    }
   ],
   "source": [
    "### Replace each question mark with the appropriate value. \n",
    "### Use python, pandas or numpy methods rather than hard coding the results\n",
    "import numpy as np\n",
    "# TODO: Number of training examples\n",
    "n_train = X_train.shape[0]\n",
    "\n",
    "# TODO: Number of validation examples\n",
    "n_validation = X_valid.shape[0]\n",
    "\n",
    "# TODO: Number of testing examples.\n",
    "n_test = X_test.shape[0]\n",
    "\n",
    "# TODO: What's the shape of an traffic sign image?\n",
    "image_shape = [X_train.shape[1],X_train.shape[2]]\n",
    "\n",
    "# TODO: How many unique classes/labels there are in the dataset.\n",
    "n_classes = np.max(train['labels'])+1\n",
    "\n",
    "print(\"Number of training examples =\", n_train)\n",
    "print(\"Number of testing examples =\", n_test)\n",
    "print(\"Image data shape =\", image_shape)\n",
    "print(\"Number of classes =\", n_classes)"
   ]
  },
  {
   "cell_type": "markdown",
   "metadata": {},
   "source": [
    "### Include an exploratory visualization of the dataset"
   ]
  },
  {
   "cell_type": "markdown",
   "metadata": {},
   "source": [
    "Visualize the German Traffic Signs Dataset using the pickled file(s). This is open ended, suggestions include: plotting traffic sign images, plotting the count of each sign, etc. \n",
    "\n",
    "The [Matplotlib](http://matplotlib.org/) [examples](http://matplotlib.org/examples/index.html) and [gallery](http://matplotlib.org/gallery.html) pages are a great resource for doing visualizations in Python.\n",
    "\n",
    "**NOTE:** It's recommended you start with something simple first. If you wish to do more, come back to it after you've completed the rest of the sections. It can be interesting to look at the distribution of classes in the training, validation and test set. Is the distribution the same? Are there more examples of some classes than others?"
   ]
  },
  {
   "cell_type": "code",
   "execution_count": 3,
   "metadata": {},
   "outputs": [
    {
     "name": "stdout",
     "output_type": "stream",
     "text": [
      "7\n"
     ]
    },
    {
     "data": {
      "image/png": "[encoded data removed]",
      "text/plain": [
       "<matplotlib.figure.Figure at 0x7f1d340eb5c0>"
      ]
     },
     "metadata": {},
     "output_type": "display_data"
    }
   ],
   "source": [
    "### Data exploration visualization code goes here.\n",
    "### Feel free to use as many code cells as needed.\n",
    "import matplotlib.pyplot as plt\n",
    "import random\n",
    "# Visualizations will be shown in the notebook.\n",
    "%matplotlib inline\n",
    "\n",
    "index = random.randint(0, n_train)\n",
    "image = X_train[index].squeeze()\n",
    "plt.imshow(image)\n",
    "print(y_train[index])"
   ]
  },
  {
   "cell_type": "markdown",
   "metadata": {},
   "source": [
    "----\n",
    "\n",
    "## Step 2: Design and Test a Model Architecture\n",
    "\n",
    "Design and implement a deep learning model that learns to recognize traffic signs. Train and test your model on the [German Traffic Sign Dataset](http://benchmark.ini.rub.de/?section=gtsrb&subsection=dataset).\n",
    "\n",
    "The LeNet-5 implementation shown in the [classroom](https://classroom.udacity.com/nanodegrees/nd013/parts/fbf77062-5703-404e-b60c-95b78b2f3f9e/modules/6df7ae49-c61c-4bb2-a23e-6527e69209ec/lessons/601ae704-1035-4287-8b11-e2c2716217ad/concepts/d4aca031-508f-4e0b-b493-e7b706120f81) at the end of the CNN lesson is a solid starting point. You'll have to change the number of classes and possibly the preprocessing, but aside from that it's plug and play! \n",
    "\n",
    "With the LeNet-5 solution from the lecture, you should expect a validation set accuracy of about 0.89. To meet specifications, the validation set accuracy will need to be at least 0.93. It is possible to get an even higher accuracy, but 0.93 is the minimum for a successful project submission. \n",
    "\n",
    "There are various aspects to consider when thinking about this problem:\n",
    "\n",
    "- Neural network architecture (is the network over or underfitting?)\n",
    "- Play around preprocessing techniques (normalization, rgb to grayscale, etc)\n",
    "- Number of examples per label (some have more than others).\n",
    "- Generate fake data.\n",
    "\n",
    "Here is an example of a [published baseline model on this problem](http://yann.lecun.com/exdb/publis/pdf/sermanet-ijcnn-11.pdf). It's not required to be familiar with the approach used in the paper but, it's good practice to try to read papers like these."
   ]
  },
  {
   "cell_type": "markdown",
   "metadata": {},
   "source": [
    "### Pre-process the Data Set (normalization, grayscale, etc.)"
   ]
  },
  {
   "cell_type": "markdown",
   "metadata": {},
   "source": [
    "Minimally, the image data should be normalized so that the data has mean zero and equal variance. For image data, `(pixel - 128)/ 128` is a quick way to approximately normalize the data and can be used in this project. \n",
    "\n",
    "Other pre-processing steps are optional. You can try different techniques to see if it improves performance. \n",
    "\n",
    "Use the code cell (or multiple code cells, if necessary) to implement the first step of your project."
   ]
  },
  {
   "cell_type": "code",
   "execution_count": 4,
   "metadata": {},
   "outputs": [
    {
     "data": {
      "text/plain": [
       "<matplotlib.image.AxesImage at 0x7f1ce34cb7b8>"
      ]
     },
     "execution_count": 4,
     "metadata": {},
     "output_type": "execute_result"
    },
    {
     "data": {
      "image/png": "[encoded data removed]",
      "text/plain": [
       "<matplotlib.figure.Figure at 0x7f1d0dd65320>"
      ]
     },
     "metadata": {},
     "output_type": "display_data"
    }
   ],
   "source": [
    "### Preprocess the data here. It is required to normalize the data. Other preprocessing steps could include \n",
    "### converting to grayscale, etc.\n",
    "### Feel free to use as many code cells as needed.\n",
    "from sklearn.utils import shuffle\n",
    "import cv2\n",
    "\n",
    "pixel_depth=255.0\n",
    "\n",
    "#Shuffle the training data.\n",
    "X_train_rgb, y_train = shuffle(X_train, y_train)\n",
    "X_valid_rgb, y_valid = shuffle(X_valid, y_valid)\n",
    "X_test_rgb, y_test=shuffle(X_test, y_test)\n",
    "\n",
    "#transfer the training data to grayscale.\n",
    "X_train=[]\n",
    "X_valid=[]\n",
    "X_test=[]\n",
    "\n",
    "\n",
    "for index in range(X_train_rgb.shape[0]): \n",
    "    #image=cv2.cvtColor(X_train_rgb[index].squeeze(), cv2.COLOR_RGB2GRAY) #the RBG images have much more informations then the grayscale image. so I used original RGB image to train.\n",
    "    image=X_train_rgb[index].squeeze()\n",
    "    image_data = (image.astype(float) - \n",
    "                    pixel_depth / 2) / pixel_depth #normalization and regularition\n",
    "    \n",
    "    X_train.append(np.array(image_data).reshape(32,32,3))\n",
    "    \n",
    "X_train=np.array(X_train)    \n",
    "    \n",
    "for index in range(X_valid_rgb.shape[0]): \n",
    "    #image=cv2.cvtColor(X_valid_rgb[index].squeeze(), cv2.COLOR_RGB2GRAY)\n",
    "    image=X_valid_rgb[index].squeeze()\n",
    "    image_data = (image.astype(float) - \n",
    "                    pixel_depth / 2) / pixel_depth #normalization and regularition\n",
    "    \n",
    "    X_valid.append(np.array(image_data).reshape(32,32,3))\n",
    "\n",
    "X_valid=np.array(X_valid)\n",
    "\n",
    "for index in range(X_test_rgb.shape[0]): \n",
    "    #image=cv2.cvtColor(X_test_rgb[index].squeeze(), cv2.COLOR_RGB2GRAY)\n",
    "    image=X_test_rgb[index].squeeze()\n",
    "    image_data = (image.astype(float) - \n",
    "                    pixel_depth / 2) / pixel_depth #normalization and regularition\n",
    "    \n",
    "    X_test.append(np.array(image_data).reshape(32,32,3))\n",
    "    \n",
    "X_test=np.array(X_test)\n",
    "\n",
    "\n",
    "\n",
    "plt.figure(figsize=(1,1))\n",
    "plt.imshow(X_valid[995].squeeze())"
   ]
  },
  {
   "cell_type": "markdown",
   "metadata": {},
   "source": [
    "### Model Architecture"
   ]
  },
  {
   "cell_type": "code",
   "execution_count": 17,
   "metadata": {
    "collapsed": true
   },
   "outputs": [],
   "source": [
    "### Define your architecture here.\n",
    "### Feel free to use as many code cells as needed.\n",
    "\n",
    "import tensorflow as tf\n",
    "\n",
    "EPOCHS = 500\n",
    "BATCH_SIZE = 2048\n",
    "\n",
    "from tensorflow.contrib.layers import flatten\n",
    "\n",
    "def LeNet(x):    \n",
    "    # Arguments used for tf.truncated_normal, randomly defines variables for the weights and biases for each layer\n",
    "    mu = 0\n",
    "    sigma = 0.1\n",
    "    \n",
    "    # SOLUTION: Layer 1: Convolutional. Input = 32x32x1. Output = 28x28x6.\n",
    "    conv1_W = tf.Variable(tf.truncated_normal(shape=(5, 5, 3, 6), mean = mu, stddev = sigma), dtype=tf.float32)\n",
    "    conv1_b = tf.Variable(tf.zeros(6), dtype=tf.float32)\n",
    "    conv1   = tf.nn.conv2d(x, conv1_W, strides=[1, 1, 1, 1], padding='VALID') + conv1_b\n",
    "\n",
    "    # SOLUTION: Activation.\n",
    "    conv1 = tf.nn.relu(conv1)\n",
    "\n",
    "    # SOLUTION: Pooling. Input = 28x28x6. Output = 14x14x6.\n",
    "    conv1 = tf.nn.max_pool(conv1, ksize=[1, 2, 2, 1], strides=[1, 2, 2, 1], padding='VALID')\n",
    "\n",
    "    # SOLUTION: Layer 2: Convolutional. Output = 10x10x16.\n",
    "    conv2_W = tf.Variable(tf.truncated_normal(shape=(5, 5, 6, 16), mean = mu, stddev = sigma), dtype=tf.float32)\n",
    "    conv2_b = tf.Variable(tf.zeros(16), dtype=tf.float32)\n",
    "    conv2   = tf.nn.conv2d(conv1, conv2_W, strides=[1, 1, 1, 1], padding='VALID') + conv2_b\n",
    "    \n",
    "    # SOLUTION: Activation.\n",
    "    conv2 = tf.nn.relu(conv2)\n",
    "\n",
    "    # SOLUTION: Pooling. Input = 10x10x16. Output = 5x5x16.\n",
    "    conv2 = tf.nn.max_pool(conv2, ksize=[1, 2, 2, 1], strides=[1, 2, 2, 1], padding='VALID')\n",
    "\n",
    "    # SOLUTION: Flatten. Input = 5x5x16. Output = 400.\n",
    "    fc0   = flatten(conv2)\n",
    "    \n",
    "    # SOLUTION: Layer 3: Fully Connected. Input = 400. Output = 120.\n",
    "    fc1_W = tf.Variable(tf.truncated_normal(shape=(400, 120), mean = mu, stddev = sigma), dtype=tf.float32)\n",
    "    fc1_b = tf.Variable(tf.zeros(120), dtype=tf.float32)\n",
    "    fc1   = tf.matmul(fc0, fc1_W) + fc1_b\n",
    "    \n",
    "    # SOLUTION: Activation.\n",
    "    fc1    = tf.nn.relu(fc1)\n",
    "    \n",
    "    #drop out\n",
    "    keep_prob = tf.placeholder(tf.float32)\n",
    "    fc1 = tf.nn.dropout(fc1, 0.9)\n",
    "\n",
    "    # SOLUTION: Layer 4: Fully Connected. Input = 120. Output = 84.\n",
    "    fc2_W  = tf.Variable(tf.truncated_normal(shape=(120, 84), mean = mu, stddev = sigma), dtype=tf.float32)\n",
    "    fc2_b  = tf.Variable(tf.zeros(84), dtype=tf.float32)\n",
    "    fc2    = tf.matmul(fc1, fc2_W) + fc2_b\n",
    "    \n",
    "    # SOLUTION: Activation.\n",
    "    fc2    = tf.nn.relu(fc2)\n",
    "\n",
    "    keep_prob = tf.placeholder(tf.float32)\n",
    "    fc2 = tf.nn.dropout(fc2, 0.8)\n",
    "    \n",
    "    \n",
    "    # SOLUTION: Layer 5: Fully Connected. Input = 84. Output = 43.\n",
    "    fc3_W  = tf.Variable(tf.truncated_normal(shape=(84, 43), mean = mu, stddev = sigma), dtype=tf.float32)\n",
    "    fc3_b  = tf.Variable(tf.zeros(43), dtype=tf.float32)\n",
    "    logits = tf.matmul(fc2, fc3_W + fc3_b)\n",
    "    \n",
    "    return logits"
   ]
  },
  {
   "cell_type": "markdown",
   "metadata": {},
   "source": [
    "### Train, Validate and Test the Model"
   ]
  },
  {
   "cell_type": "markdown",
   "metadata": {},
   "source": [
    "A validation set can be used to assess how well the model is performing. A low accuracy on the training and validation\n",
    "sets imply underfitting. A high accuracy on the training set but low accuracy on the validation set implies overfitting."
   ]
  },
  {
   "cell_type": "code",
   "execution_count": 18,
   "metadata": {},
   "outputs": [
    {
     "ename": "ValueError",
     "evalue": "No gradients provided for any variable, check your graph for ops that do not support gradients, between variables ['Tensor(\"Variable/read:0\", shape=(5, 5, 3, 6), dtype=float32)', 'Tensor(\"Variable_1/read:0\", shape=(6,), dtype=float32)', 'Tensor(\"Variable_2/read:0\", shape=(5, 5, 6, 16), dtype=float32)', 'Tensor(\"Variable_3/read:0\", shape=(16,), dtype=float32)', 'Tensor(\"Variable_4/read:0\", shape=(400, 120), dtype=float32)', 'Tensor(\"Variable_5/read:0\", shape=(120,), dtype=float32)', 'Tensor(\"Variable_6/read:0\", shape=(120, 84), dtype=float32)', 'Tensor(\"Variable_7/read:0\", shape=(84,), dtype=float32)', 'Tensor(\"Variable_8/read:0\", shape=(84, 43), dtype=float32)', 'Tensor(\"Variable_9/read:0\", shape=(43,), dtype=float32)', 'Tensor(\"Variable_10/read:0\", shape=(5, 5, 3, 6), dtype=float32)', 'Tensor(\"Variable_11/read:0\", shape=(6,), dtype=float32)', 'Tensor(\"Variable_12/read:0\", shape=(5, 5, 6, 16), dtype=float32)', 'Tensor(\"Variable_13/read:0\", shape=(16,), dtype=float32)', 'Tensor(\"Variable_14/read:0\", shape=(400, 120), dtype=float32)', 'Tensor(\"Variable_15/read:0\", shape=(120,), dtype=float32)', 'Tensor(\"Variable_16/read:0\", shape=(120, 84), dtype=float32)', 'Tensor(\"Variable_17/read:0\", shape=(84,), dtype=float32)', 'Tensor(\"Variable_18/read:0\", shape=(84, 43), dtype=float32)', 'Tensor(\"Variable_19/read:0\", shape=(43,), dtype=float32)', 'Tensor(\"Variable_20/read:0\", shape=(5, 5, 3, 6), dtype=float32)', 'Tensor(\"Variable_21/read:0\", shape=(6,), dtype=float32)', 'Tensor(\"Variable_22/read:0\", shape=(5, 5, 6, 16), dtype=float32)', 'Tensor(\"Variable_23/read:0\", shape=(16,), dtype=float32)', 'Tensor(\"Variable_24/read:0\", shape=(400, 120), dtype=float32)', 'Tensor(\"Variable_25/read:0\", shape=(120,), dtype=float32)', 'Tensor(\"Variable_26/read:0\", shape=(120, 84), dtype=float32)', 'Tensor(\"Variable_27/read:0\", shape=(84,), dtype=float32)', 'Tensor(\"Variable_28/read:0\", shape=(84, 43), dtype=float32)', 'Tensor(\"Variable_29/read:0\", shape=(43,), dtype=float32)', 'Tensor(\"Variable_30/read:0\", shape=(5, 5, 3, 6), dtype=float32)', 'Tensor(\"Variable_31/read:0\", shape=(6,), dtype=float32)', 'Tensor(\"Variable_32/read:0\", shape=(5, 5, 6, 16), dtype=float32)', 'Tensor(\"Variable_33/read:0\", shape=(16,), dtype=float32)', 'Tensor(\"Variable_34/read:0\", shape=(400, 120), dtype=float32)', 'Tensor(\"Variable_35/read:0\", shape=(120,), dtype=float32)', 'Tensor(\"Variable_36/read:0\", shape=(120, 84), dtype=float32)', 'Tensor(\"Variable_37/read:0\", shape=(84,), dtype=float32)', 'Tensor(\"Variable_38/read:0\", shape=(84, 43), dtype=float32)', 'Tensor(\"Variable_39/read:0\", shape=(43,), dtype=float32)', 'Tensor(\"Variable_40/read:0\", shape=(5, 5, 3, 6), dtype=float32)', 'Tensor(\"Variable_41/read:0\", shape=(6,), dtype=float32)', 'Tensor(\"Variable_42/read:0\", shape=(5, 5, 6, 16), dtype=float32)', 'Tensor(\"Variable_43/read:0\", shape=(16,), dtype=float32)', 'Tensor(\"Variable_44/read:0\", shape=(400, 120), dtype=float32)', 'Tensor(\"Variable_45/read:0\", shape=(120,), dtype=float32)', 'Tensor(\"Variable_46/read:0\", shape=(120, 84), dtype=float32)', 'Tensor(\"Variable_47/read:0\", shape=(84,), dtype=float32)', 'Tensor(\"Variable_48/read:0\", shape=(84, 43), dtype=float32)', 'Tensor(\"Variable_49/read:0\", shape=(43,), dtype=float32)', 'Tensor(\"Variable_50/read:0\", shape=(5, 5, 3, 6), dtype=float32)', 'Tensor(\"Variable_51/read:0\", shape=(6,), dtype=float32)', 'Tensor(\"Variable_52/read:0\", shape=(5, 5, 6, 16), dtype=float32)', 'Tensor(\"Variable_53/read:0\", shape=(16,), dtype=float32)', 'Tensor(\"Variable_54/read:0\", shape=(400, 120), dtype=float32)', 'Tensor(\"Variable_55/read:0\", shape=(120,), dtype=float32)', 'Tensor(\"Variable_56/read:0\", shape=(120, 84), dtype=float32)', 'Tensor(\"Variable_57/read:0\", shape=(84,), dtype=float32)', 'Tensor(\"Variable_58/read:0\", shape=(84, 43), dtype=float32)', 'Tensor(\"Variable_59/read:0\", shape=(43,), dtype=float32)', 'Tensor(\"Variable_60/read:0\", shape=(5, 5, 3, 6), dtype=float32)', 'Tensor(\"Variable_61/read:0\", shape=(6,), dtype=float32)', 'Tensor(\"Variable_62/read:0\", shape=(5, 5, 6, 16), dtype=float32)', 'Tensor(\"Variable_63/read:0\", shape=(16,), dtype=float32)', 'Tensor(\"Variable_64/read:0\", shape=(400, 120), dtype=float32)', 'Tensor(\"Variable_65/read:0\", shape=(120,), dtype=float32)', 'Tensor(\"Variable_66/read:0\", shape=(120, 84), dtype=float32)', 'Tensor(\"Variable_67/read:0\", shape=(84,), dtype=float32)', 'Tensor(\"Variable_68/read:0\", shape=(84, 43), dtype=float32)', 'Tensor(\"Variable_69/read:0\", shape=(43,), dtype=float32)', 'Tensor(\"Variable_70/read:0\", shape=(5, 5, 3, 6), dtype=float32)', 'Tensor(\"Variable_71/read:0\", shape=(6,), dtype=float32)', 'Tensor(\"Variable_72/read:0\", shape=(5, 5, 6, 16), dtype=float32)', 'Tensor(\"Variable_73/read:0\", shape=(16,), dtype=float32)', 'Tensor(\"Variable_74/read:0\", shape=(400, 120), dtype=float32)', 'Tensor(\"Variable_75/read:0\", shape=(120,), dtype=float32)', 'Tensor(\"Variable_76/read:0\", shape=(120, 84), dtype=float32)', 'Tensor(\"Variable_77/read:0\", shape=(84,), dtype=float32)', 'Tensor(\"Variable_78/read:0\", shape=(84, 43), dtype=float32)', 'Tensor(\"Variable_79/read:0\", shape=(43,), dtype=float32)', 'Tensor(\"Variable_80/read:0\", shape=(5, 5, 3, 6), dtype=float32)', 'Tensor(\"Variable_81/read:0\", shape=(6,), dtype=float32)', 'Tensor(\"Variable_82/read:0\", shape=(5, 5, 6, 16), dtype=float32)', 'Tensor(\"Variable_83/read:0\", shape=(16,), dtype=float32)', 'Tensor(\"Variable_84/read:0\", shape=(400, 120), dtype=float32)', 'Tensor(\"Variable_85/read:0\", shape=(120,), dtype=float32)', 'Tensor(\"Variable_86/read:0\", shape=(120, 84), dtype=float32)', 'Tensor(\"Variable_87/read:0\", shape=(84,), dtype=float32)', 'Tensor(\"Variable_88/read:0\", shape=(84, 43), dtype=float32)', 'Tensor(\"Variable_89/read:0\", shape=(43,), dtype=float32)', 'Tensor(\"Variable_90/read:0\", shape=(5, 5, 3, 6), dtype=float32)', 'Tensor(\"Variable_91/read:0\", shape=(6,), dtype=float32)', 'Tensor(\"Variable_92/read:0\", shape=(5, 5, 6, 16), dtype=float32)', 'Tensor(\"Variable_93/read:0\", shape=(16,), dtype=float32)', 'Tensor(\"Variable_94/read:0\", shape=(400, 120), dtype=float32)', 'Tensor(\"Variable_95/read:0\", shape=(120,), dtype=float32)', 'Tensor(\"Variable_96/read:0\", shape=(120, 84), dtype=float32)', 'Tensor(\"Variable_97/read:0\", shape=(84,), dtype=float32)', 'Tensor(\"Variable_98/read:0\", shape=(84, 43), dtype=float32)', 'Tensor(\"Variable_99/read:0\", shape=(43,), dtype=float32)', 'Tensor(\"Variable_100/read:0\", shape=(5, 5, 3, 6), dtype=float32)', 'Tensor(\"Variable_101/read:0\", shape=(6,), dtype=float32)', 'Tensor(\"Variable_102/read:0\", shape=(5, 5, 6, 16), dtype=float32)', 'Tensor(\"Variable_103/read:0\", shape=(16,), dtype=float32)', 'Tensor(\"Variable_104/read:0\", shape=(400, 120), dtype=float32)', 'Tensor(\"Variable_105/read:0\", shape=(120,), dtype=float32)', 'Tensor(\"Variable_106/read:0\", shape=(120, 84), dtype=float32)', 'Tensor(\"Variable_107/read:0\", shape=(84,), dtype=float32)', 'Tensor(\"Variable_108/read:0\", shape=(84, 43), dtype=float32)', 'Tensor(\"Variable_109/read:0\", shape=(43,), dtype=float32)', 'Tensor(\"Variable_110/read:0\", shape=(5, 5, 3, 6), dtype=float32)', 'Tensor(\"Variable_111/read:0\", shape=(6,), dtype=float32)', 'Tensor(\"Variable_112/read:0\", shape=(5, 5, 6, 16), dtype=float32)', 'Tensor(\"Variable_113/read:0\", shape=(16,), dtype=float32)', 'Tensor(\"Variable_114/read:0\", shape=(400, 120), dtype=float32)', 'Tensor(\"Variable_115/read:0\", shape=(120,), dtype=float32)', 'Tensor(\"Variable_116/read:0\", shape=(120, 84), dtype=float32)', 'Tensor(\"Variable_117/read:0\", shape=(84,), dtype=float32)', 'Tensor(\"Variable_118/read:0\", shape=(84, 43), dtype=float32)', 'Tensor(\"Variable_119/read:0\", shape=(43,), dtype=float32)'] and loss Tensor(\"Mean_5:0\", dtype=float32).",
     "output_type": "error",
     "traceback": [
      "\u001b[0;31m---------------------------------------------------------------------------\u001b[0m",
      "\u001b[0;31mValueError\u001b[0m                                Traceback (most recent call last)",
      "\u001b[0;32m<ipython-input-18-f916d34a516d>\u001b[0m in \u001b[0;36m<module>\u001b[0;34m()\u001b[0m\n\u001b[1;32m     16\u001b[0m \u001b[0mloss_operation\u001b[0m \u001b[0;34m=\u001b[0m \u001b[0mtf\u001b[0m\u001b[0;34m.\u001b[0m\u001b[0mreduce_mean\u001b[0m\u001b[0;34m(\u001b[0m\u001b[0mcross_entropy\u001b[0m\u001b[0;34m)\u001b[0m\u001b[0;34m\u001b[0m\u001b[0m\n\u001b[1;32m     17\u001b[0m \u001b[0moptimizer\u001b[0m \u001b[0;34m=\u001b[0m \u001b[0mtf\u001b[0m\u001b[0;34m.\u001b[0m\u001b[0mtrain\u001b[0m\u001b[0;34m.\u001b[0m\u001b[0mAdamOptimizer\u001b[0m\u001b[0;34m(\u001b[0m\u001b[0mlearning_rate\u001b[0m \u001b[0;34m=\u001b[0m \u001b[0mrate\u001b[0m\u001b[0;34m)\u001b[0m\u001b[0;34m\u001b[0m\u001b[0m\n\u001b[0;32m---> 18\u001b[0;31m \u001b[0mtraining_operation\u001b[0m \u001b[0;34m=\u001b[0m \u001b[0moptimizer\u001b[0m\u001b[0;34m.\u001b[0m\u001b[0mminimize\u001b[0m\u001b[0;34m(\u001b[0m\u001b[0mloss_operation\u001b[0m\u001b[0;34m)\u001b[0m\u001b[0;34m\u001b[0m\u001b[0m\n\u001b[0m\u001b[1;32m     19\u001b[0m \u001b[0mprob\u001b[0m   \u001b[0;34m=\u001b[0m \u001b[0mtf\u001b[0m\u001b[0;34m.\u001b[0m\u001b[0mnn\u001b[0m\u001b[0;34m.\u001b[0m\u001b[0msoftmax\u001b[0m\u001b[0;34m(\u001b[0m\u001b[0mlogits\u001b[0m\u001b[0;34m)\u001b[0m\u001b[0;34m\u001b[0m\u001b[0m\n\u001b[1;32m     20\u001b[0m \u001b[0;34m\u001b[0m\u001b[0m\n",
      "\u001b[0;32m/home/llcc2196/anaconda3/envs/carnd-term1/lib/python3.5/site-packages/tensorflow/python/training/optimizer.py\u001b[0m in \u001b[0;36mminimize\u001b[0;34m(self, loss, global_step, var_list, gate_gradients, aggregation_method, colocate_gradients_with_ops, name, grad_loss)\u001b[0m\n\u001b[1;32m    274\u001b[0m           \u001b[0;34m\"No gradients provided for any variable, check your graph for ops\"\u001b[0m\u001b[0;34m\u001b[0m\u001b[0m\n\u001b[1;32m    275\u001b[0m           \u001b[0;34m\" that do not support gradients, between variables %s and loss %s.\"\u001b[0m \u001b[0;34m%\u001b[0m\u001b[0;34m\u001b[0m\u001b[0m\n\u001b[0;32m--> 276\u001b[0;31m           ([str(v) for _, v in grads_and_vars], loss))\n\u001b[0m\u001b[1;32m    277\u001b[0m \u001b[0;34m\u001b[0m\u001b[0m\n\u001b[1;32m    278\u001b[0m     return self.apply_gradients(grads_and_vars, global_step=global_step,\n",
      "\u001b[0;31mValueError\u001b[0m: No gradients provided for any variable, check your graph for ops that do not support gradients, between variables ['Tensor(\"Variable/read:0\", shape=(5, 5, 3, 6), dtype=float32)', 'Tensor(\"Variable_1/read:0\", shape=(6,), dtype=float32)', 'Tensor(\"Variable_2/read:0\", shape=(5, 5, 6, 16), dtype=float32)', 'Tensor(\"Variable_3/read:0\", shape=(16,), dtype=float32)', 'Tensor(\"Variable_4/read:0\", shape=(400, 120), dtype=float32)', 'Tensor(\"Variable_5/read:0\", shape=(120,), dtype=float32)', 'Tensor(\"Variable_6/read:0\", shape=(120, 84), dtype=float32)', 'Tensor(\"Variable_7/read:0\", shape=(84,), dtype=float32)', 'Tensor(\"Variable_8/read:0\", shape=(84, 43), dtype=float32)', 'Tensor(\"Variable_9/read:0\", shape=(43,), dtype=float32)', 'Tensor(\"Variable_10/read:0\", shape=(5, 5, 3, 6), dtype=float32)', 'Tensor(\"Variable_11/read:0\", shape=(6,), dtype=float32)', 'Tensor(\"Variable_12/read:0\", shape=(5, 5, 6, 16), dtype=float32)', 'Tensor(\"Variable_13/read:0\", shape=(16,), dtype=float32)', 'Tensor(\"Variable_14/read:0\", shape=(400, 120), dtype=float32)', 'Tensor(\"Variable_15/read:0\", shape=(120,), dtype=float32)', 'Tensor(\"Variable_16/read:0\", shape=(120, 84), dtype=float32)', 'Tensor(\"Variable_17/read:0\", shape=(84,), dtype=float32)', 'Tensor(\"Variable_18/read:0\", shape=(84, 43), dtype=float32)', 'Tensor(\"Variable_19/read:0\", shape=(43,), dtype=float32)', 'Tensor(\"Variable_20/read:0\", shape=(5, 5, 3, 6), dtype=float32)', 'Tensor(\"Variable_21/read:0\", shape=(6,), dtype=float32)', 'Tensor(\"Variable_22/read:0\", shape=(5, 5, 6, 16), dtype=float32)', 'Tensor(\"Variable_23/read:0\", shape=(16,), dtype=float32)', 'Tensor(\"Variable_24/read:0\", shape=(400, 120), dtype=float32)', 'Tensor(\"Variable_25/read:0\", shape=(120,), dtype=float32)', 'Tensor(\"Variable_26/read:0\", shape=(120, 84), dtype=float32)', 'Tensor(\"Variable_27/read:0\", shape=(84,), dtype=float32)', 'Tensor(\"Variable_28/read:0\", shape=(84, 43), dtype=float32)', 'Tensor(\"Variable_29/read:0\", shape=(43,), dtype=float32)', 'Tensor(\"Variable_30/read:0\", shape=(5, 5, 3, 6), dtype=float32)', 'Tensor(\"Variable_31/read:0\", shape=(6,), dtype=float32)', 'Tensor(\"Variable_32/read:0\", shape=(5, 5, 6, 16), dtype=float32)', 'Tensor(\"Variable_33/read:0\", shape=(16,), dtype=float32)', 'Tensor(\"Variable_34/read:0\", shape=(400, 120), dtype=float32)', 'Tensor(\"Variable_35/read:0\", shape=(120,), dtype=float32)', 'Tensor(\"Variable_36/read:0\", shape=(120, 84), dtype=float32)', 'Tensor(\"Variable_37/read:0\", shape=(84,), dtype=float32)', 'Tensor(\"Variable_38/read:0\", shape=(84, 43), dtype=float32)', 'Tensor(\"Variable_39/read:0\", shape=(43,), dtype=float32)', 'Tensor(\"Variable_40/read:0\", shape=(5, 5, 3, 6), dtype=float32)', 'Tensor(\"Variable_41/read:0\", shape=(6,), dtype=float32)', 'Tensor(\"Variable_42/read:0\", shape=(5, 5, 6, 16), dtype=float32)', 'Tensor(\"Variable_43/read:0\", shape=(16,), dtype=float32)', 'Tensor(\"Variable_44/read:0\", shape=(400, 120), dtype=float32)', 'Tensor(\"Variable_45/read:0\", shape=(120,), dtype=float32)', 'Tensor(\"Variable_46/read:0\", shape=(120, 84), dtype=float32)', 'Tensor(\"Variable_47/read:0\", shape=(84,), dtype=float32)', 'Tensor(\"Variable_48/read:0\", shape=(84, 43), dtype=float32)', 'Tensor(\"Variable_49/read:0\", shape=(43,), dtype=float32)', 'Tensor(\"Variable_50/read:0\", shape=(5, 5, 3, 6), dtype=float32)', 'Tensor(\"Variable_51/read:0\", shape=(6,), dtype=float32)', 'Tensor(\"Variable_52/read:0\", shape=(5, 5, 6, 16), dtype=float32)', 'Tensor(\"Variable_53/read:0\", shape=(16,), dtype=float32)', 'Tensor(\"Variable_54/read:0\", shape=(400, 120), dtype=float32)', 'Tensor(\"Variable_55/read:0\", shape=(120,), dtype=float32)', 'Tensor(\"Variable_56/read:0\", shape=(120, 84), dtype=float32)', 'Tensor(\"Variable_57/read:0\", shape=(84,), dtype=float32)', 'Tensor(\"Variable_58/read:0\", shape=(84, 43), dtype=float32)', 'Tensor(\"Variable_59/read:0\", shape=(43,), dtype=float32)', 'Tensor(\"Variable_60/read:0\", shape=(5, 5, 3, 6), dtype=float32)', 'Tensor(\"Variable_61/read:0\", shape=(6,), dtype=float32)', 'Tensor(\"Variable_62/read:0\", shape=(5, 5, 6, 16), dtype=float32)', 'Tensor(\"Variable_63/read:0\", shape=(16,), dtype=float32)', 'Tensor(\"Variable_64/read:0\", shape=(400, 120), dtype=float32)', 'Tensor(\"Variable_65/read:0\", shape=(120,), dtype=float32)', 'Tensor(\"Variable_66/read:0\", shape=(120, 84), dtype=float32)', 'Tensor(\"Variable_67/read:0\", shape=(84,), dtype=float32)', 'Tensor(\"Variable_68/read:0\", shape=(84, 43), dtype=float32)', 'Tensor(\"Variable_69/read:0\", shape=(43,), dtype=float32)', 'Tensor(\"Variable_70/read:0\", shape=(5, 5, 3, 6), dtype=float32)', 'Tensor(\"Variable_71/read:0\", shape=(6,), dtype=float32)', 'Tensor(\"Variable_72/read:0\", shape=(5, 5, 6, 16), dtype=float32)', 'Tensor(\"Variable_73/read:0\", shape=(16,), dtype=float32)', 'Tensor(\"Variable_74/read:0\", shape=(400, 120), dtype=float32)', 'Tensor(\"Variable_75/read:0\", shape=(120,), dtype=float32)', 'Tensor(\"Variable_76/read:0\", shape=(120, 84), dtype=float32)', 'Tensor(\"Variable_77/read:0\", shape=(84,), dtype=float32)', 'Tensor(\"Variable_78/read:0\", shape=(84, 43), dtype=float32)', 'Tensor(\"Variable_79/read:0\", shape=(43,), dtype=float32)', 'Tensor(\"Variable_80/read:0\", shape=(5, 5, 3, 6), dtype=float32)', 'Tensor(\"Variable_81/read:0\", shape=(6,), dtype=float32)', 'Tensor(\"Variable_82/read:0\", shape=(5, 5, 6, 16), dtype=float32)', 'Tensor(\"Variable_83/read:0\", shape=(16,), dtype=float32)', 'Tensor(\"Variable_84/read:0\", shape=(400, 120), dtype=float32)', 'Tensor(\"Variable_85/read:0\", shape=(120,), dtype=float32)', 'Tensor(\"Variable_86/read:0\", shape=(120, 84), dtype=float32)', 'Tensor(\"Variable_87/read:0\", shape=(84,), dtype=float32)', 'Tensor(\"Variable_88/read:0\", shape=(84, 43), dtype=float32)', 'Tensor(\"Variable_89/read:0\", shape=(43,), dtype=float32)', 'Tensor(\"Variable_90/read:0\", shape=(5, 5, 3, 6), dtype=float32)', 'Tensor(\"Variable_91/read:0\", shape=(6,), dtype=float32)', 'Tensor(\"Variable_92/read:0\", shape=(5, 5, 6, 16), dtype=float32)', 'Tensor(\"Variable_93/read:0\", shape=(16,), dtype=float32)', 'Tensor(\"Variable_94/read:0\", shape=(400, 120), dtype=float32)', 'Tensor(\"Variable_95/read:0\", shape=(120,), dtype=float32)', 'Tensor(\"Variable_96/read:0\", shape=(120, 84), dtype=float32)', 'Tensor(\"Variable_97/read:0\", shape=(84,), dtype=float32)', 'Tensor(\"Variable_98/read:0\", shape=(84, 43), dtype=float32)', 'Tensor(\"Variable_99/read:0\", shape=(43,), dtype=float32)', 'Tensor(\"Variable_100/read:0\", shape=(5, 5, 3, 6), dtype=float32)', 'Tensor(\"Variable_101/read:0\", shape=(6,), dtype=float32)', 'Tensor(\"Variable_102/read:0\", shape=(5, 5, 6, 16), dtype=float32)', 'Tensor(\"Variable_103/read:0\", shape=(16,), dtype=float32)', 'Tensor(\"Variable_104/read:0\", shape=(400, 120), dtype=float32)', 'Tensor(\"Variable_105/read:0\", shape=(120,), dtype=float32)', 'Tensor(\"Variable_106/read:0\", shape=(120, 84), dtype=float32)', 'Tensor(\"Variable_107/read:0\", shape=(84,), dtype=float32)', 'Tensor(\"Variable_108/read:0\", shape=(84, 43), dtype=float32)', 'Tensor(\"Variable_109/read:0\", shape=(43,), dtype=float32)', 'Tensor(\"Variable_110/read:0\", shape=(5, 5, 3, 6), dtype=float32)', 'Tensor(\"Variable_111/read:0\", shape=(6,), dtype=float32)', 'Tensor(\"Variable_112/read:0\", shape=(5, 5, 6, 16), dtype=float32)', 'Tensor(\"Variable_113/read:0\", shape=(16,), dtype=float32)', 'Tensor(\"Variable_114/read:0\", shape=(400, 120), dtype=float32)', 'Tensor(\"Variable_115/read:0\", shape=(120,), dtype=float32)', 'Tensor(\"Variable_116/read:0\", shape=(120, 84), dtype=float32)', 'Tensor(\"Variable_117/read:0\", shape=(84,), dtype=float32)', 'Tensor(\"Variable_118/read:0\", shape=(84, 43), dtype=float32)', 'Tensor(\"Variable_119/read:0\", shape=(43,), dtype=float32)'] and loss Tensor(\"Mean_5:0\", dtype=float32)."
     ]
    }
   ],
   "source": [
    "### Train your model here.\n",
    "### Calculate and report the accuracy on the training and validation set.\n",
    "### Once a final model architecture is selected, \n",
    "### the accuracy on the test set should be calculated and reported as well.\n",
    "### Feel free to use as many code cells as needed.\n",
    "x = tf.placeholder(tf.float32, (None, 32, 32, 3))\n",
    "y = tf.placeholder(tf.int32, (None))\n",
    "one_hot_y = tf.one_hot(y, 43)\n",
    "\n",
    "\n",
    "rate = 0.001\n",
    "\n",
    "logits = LeNet(x)\n",
    "cross_entropy = tf.nn.softmax_cross_entropy_with_logits(one_hot_y,logits,-1,None)\n",
    "\n",
    "loss_operation = tf.reduce_mean(cross_entropy)\n",
    "optimizer = tf.train.AdamOptimizer(learning_rate = rate)\n",
    "training_operation = optimizer.minimize(loss_operation)\n",
    "prob   = tf.nn.softmax(logits)\n",
    "\n",
    "#module evaluation\n",
    "correct_prediction = tf.equal(tf.argmax(logits, 1), tf.argmax(one_hot_y, 1))\n",
    "accuracy_operation = tf.reduce_mean(tf.cast(correct_prediction, tf.float32))\n",
    "saver = tf.train.Saver()\n",
    "\n",
    "def evaluate(X_data, y_data):\n",
    "    num_examples = len(X_data)\n",
    "    total_accuracy = 0\n",
    "    sess = tf.get_default_session()\n",
    "    for offset in range(0, num_examples, BATCH_SIZE):\n",
    "        batch_x, batch_y = X_data[offset:offset+BATCH_SIZE], y_data[offset:offset+BATCH_SIZE]\n",
    "        accuracy = sess.run(accuracy_operation, feed_dict={x: batch_x, y: batch_y})\n",
    "        total_accuracy += (accuracy * len(batch_x))\n",
    "    return total_accuracy / num_examples"
   ]
  },
  {
   "cell_type": "code",
   "execution_count": null,
   "metadata": {
    "collapsed": true
   },
   "outputs": [],
   "source": [
    "\n",
    "with tf.Session() as sess:\n",
    "    sess.run(tf.global_variables_initializer())\n",
    "    num_examples = len(X_train_rgb)\n",
    "\n",
    "    print(\"Training...\")\n",
    "    print()\n",
    "    for i in range(EPOCHS):\n",
    "        X_train, y_train = shuffle(X_train, y_train)\n",
    "        for offset in range(0, num_examples, BATCH_SIZE):\n",
    "            end = offset + BATCH_SIZE\n",
    "            batch_x, batch_y = X_train[offset:end], y_train[offset:end]\n",
    "            #sess.run(training_operation, feed_dict={x: batch_x, y: batch_y})\n",
    "            sess.run(training_operation, feed_dict={x: batch_x, y: batch_y})\n",
    "        validation_accuracy = evaluate(X_valid, y_valid)\n",
    "        print(\"EPOCH {} ...\".format(i+1))\n",
    "        print(\"Validation Accuracy = {:.3f}\".format(validation_accuracy))\n",
    "        print()\n",
    "\n",
    "    saver.save(sess, './lenet_withdropout')\n",
    "    print(\"Model saved\")"
   ]
  },
  {
   "cell_type": "markdown",
   "metadata": {},
   "source": [
    "---\n",
    "\n",
    "## Step 3: Test a Model on New Images\n",
    "\n",
    "To give yourself more insight into how your model is working, download at least five pictures of German traffic signs from the web and use your model to predict the traffic sign type.\n",
    "\n",
    "You may find `signnames.csv` useful as it contains mappings from the class id (integer) to the actual sign name."
   ]
  },
  {
   "cell_type": "markdown",
   "metadata": {},
   "source": [
    "### Load and Output the Images"
   ]
  },
  {
   "cell_type": "code",
   "execution_count": null,
   "metadata": {
    "collapsed": true
   },
   "outputs": [],
   "source": [
    "### Load the images and plot them here.\n",
    "### Feel free to use as many code cells as needed.\n",
    "test_images=['1.jpg',\n",
    "             '2.jpg',\n",
    "             '3.jpg',\n",
    "             '4.jpg',\n",
    "             '5.jpg',\n",
    "             ]\n",
    "\n",
    "test_crop=[(2,2,180,180),(10,0,179,150),(2,1,1900,180),(20,10,180,170),(40,0,260,200)]\n",
    "\n",
    "num=len(test_images)\n",
    "crops=[]\n",
    "cropsor=[]\n",
    "\n",
    "prob   = tf.nn.softmax(logits)\n",
    "\n",
    "for n in range(num):\n",
    "    img = cv2.imread(test_images[n])\n",
    "    img = cv2.cvtColor(img, cv2.COLOR_BGR2RGB)\n",
    "    x1, y1, x2, y2 = test_crop[n] \n",
    "    crop = cv2.resize(img[y1:y2, x1:x2, :], (32, 32),interpolation=cv2.INTER_CUBIC)\n",
    "   \n",
    "    crop=np.array(crop)\n",
    "    cropnr = (crop.astype(float) - \n",
    "                    pixel_depth / 2) / pixel_depth #normalization and regularition\n",
    "    crops.append(cropnr)\n",
    "    cropsor.append(crop)\n",
    "    \n",
    "crops=np.array(crops)\n",
    "cropsor=np.array(cropsor)"
   ]
  },
  {
   "cell_type": "code",
   "execution_count": null,
   "metadata": {
    "collapsed": true
   },
   "outputs": [],
   "source": [
    "plt.imshow(cropsor[0])"
   ]
  },
  {
   "cell_type": "markdown",
   "metadata": {},
   "source": [
    "### Predict the Sign Type for Each Image"
   ]
  },
  {
   "cell_type": "code",
   "execution_count": 3,
   "metadata": {
    "collapsed": true
   },
   "outputs": [],
   "source": [
    "### Run the predictions here and use the model to output the prediction for each image.\n",
    "### Make sure to pre-process the images with the same pre-processing pipeline used earlier.\n",
    "### Feel free to use as many code cells as needed.\n",
    "test_prob=[]\n",
    "test=[]\n",
    "\n",
    "with tf.Session() as sess:\n",
    "    saver.restore(sess, './lenet_withdropout')#load the saved module\n",
    "\n",
    "    test_accuracy = evaluate(X_test, y_test)#final test accuracy\n",
    "    print(\"Test Accuracy = {:.3f}\".format(test_accuracy))#with lenet5 only. cannot get that much accuracy\n",
    "    \n",
    "    for n in range(num):\n",
    "        test_prob.append(sess.run(prob, feed_dict={x: np.array([crops[n]]), y: False}))"
   ]
  },
  {
   "cell_type": "markdown",
   "metadata": {},
   "source": [
    "### Analyze Performance"
   ]
  },
  {
   "cell_type": "code",
   "execution_count": 4,
   "metadata": {
    "collapsed": true
   },
   "outputs": [],
   "source": [
    "### Calculate the accuracy for these 5 new images. \n",
    "### For example, if the model predicted 1 out of 5 signs correctly, it's 20% accurate on these new images."
   ]
  },
  {
   "cell_type": "markdown",
   "metadata": {},
   "source": [
    "### Output Top 5 Softmax Probabilities For Each Image Found on the Web"
   ]
  },
  {
   "cell_type": "markdown",
   "metadata": {},
   "source": [
    "For each of the new images, print out the model's softmax probabilities to show the **certainty** of the model's predictions (limit the output to the top 5 probabilities for each image). [`tf.nn.top_k`](https://www.tensorflow.org/versions/r0.12/api_docs/python/nn.html#top_k) could prove helpful here. \n",
    "\n",
    "The example below demonstrates how tf.nn.top_k can be used to find the top k predictions for each image.\n",
    "\n",
    "`tf.nn.top_k` will return the values and indices (class ids) of the top k predictions. So if k=3, for each sign, it'll return the 3 largest probabilities (out of a possible 43) and the correspoding class ids.\n",
    "\n",
    "Take this numpy array as an example. The values in the array represent predictions. The array contains softmax probabilities for five candidate images with six possible classes. `tk.nn.top_k` is used to choose the three classes with the highest probability:\n",
    "\n",
    "```\n",
    "# (5, 6) array\n",
    "a = np.array([[ 0.24879643,  0.07032244,  0.12641572,  0.34763842,  0.07893497,\n",
    "         0.12789202],\n",
    "       [ 0.28086119,  0.27569815,  0.08594638,  0.0178669 ,  0.18063401,\n",
    "         0.15899337],\n",
    "       [ 0.26076848,  0.23664738,  0.08020603,  0.07001922,  0.1134371 ,\n",
    "         0.23892179],\n",
    "       [ 0.11943333,  0.29198961,  0.02605103,  0.26234032,  0.1351348 ,\n",
    "         0.16505091],\n",
    "       [ 0.09561176,  0.34396535,  0.0643941 ,  0.16240774,  0.24206137,\n",
    "         0.09155967]])\n",
    "```\n",
    "\n",
    "Running it through `sess.run(tf.nn.top_k(tf.constant(a), k=3))` produces:\n",
    "\n",
    "```\n",
    "TopKV2(values=array([[ 0.34763842,  0.24879643,  0.12789202],\n",
    "       [ 0.28086119,  0.27569815,  0.18063401],\n",
    "       [ 0.26076848,  0.23892179,  0.23664738],\n",
    "       [ 0.29198961,  0.26234032,  0.16505091],\n",
    "       [ 0.34396535,  0.24206137,  0.16240774]]), indices=array([[3, 0, 5],\n",
    "       [0, 1, 4],\n",
    "       [0, 5, 1],\n",
    "       [1, 3, 5],\n",
    "       [1, 4, 3]], dtype=int32))\n",
    "```\n",
    "\n",
    "Looking just at the first row we get `[ 0.34763842,  0.24879643,  0.12789202]`, you can confirm these are the 3 largest probabilities in `a`. You'll also notice `[3, 0, 5]` are the corresponding indices."
   ]
  },
  {
   "cell_type": "code",
   "execution_count": 3,
   "metadata": {
    "collapsed": true
   },
   "outputs": [],
   "source": [
    "### Print out the top five softmax probabilities for the predictions on the German traffic sign images found on the web. \n",
    "### Feel free to use as many code cells as needed.\n",
    "values=[]\n",
    "indices=[]\n",
    "\n",
    "with tf.Session() as sess:\n",
    "    for n in range(num):\n",
    "        [value, indice]=sess.run(tf.nn.top_k(tf.constant(test_prob[n]),k=5))\n",
    "        values.append(value)\n",
    "        indices.append(indice)   \n",
    "\n",
    "for n in range(num):\n",
    "    print(indices[n][0])\n",
    "    print(values[n])"
   ]
  },
  {
   "cell_type": "markdown",
   "metadata": {},
   "source": [
    "### Project Writeup\n",
    "\n",
    "Once you have completed the code implementation, document your results in a project writeup using this [template](https://github.com/udacity/CarND-Traffic-Sign-Classifier-Project/blob/master/writeup_template.md) as a guide. The writeup can be in a markdown or pdf file. "
   ]
  },
  {
   "cell_type": "markdown",
   "metadata": {},
   "source": [
    "> **Note**: Once you have completed all of the code implementations and successfully answered each question above, you may finalize your work by exporting the iPython Notebook as an HTML document. You can do this by using the menu above and navigating to  \\n\",\n",
    "    \"**File -> Download as -> HTML (.html)**. Include the finished document along with this notebook as your submission."
   ]
  },
  {
   "cell_type": "markdown",
   "metadata": {},
   "source": [
    "---\n",
    "\n",
    "## Step 4 (Optional): Visualize the Neural Network's State with Test Images\n",
    "\n",
    " This Section is not required to complete but acts as an additional excersise for understaning the output of a neural network's weights. While neural networks can be a great learning device they are often referred to as a black box. We can understand what the weights of a neural network look like better by plotting their feature maps. After successfully training your neural network you can see what it's feature maps look like by plotting the output of the network's weight layers in response to a test stimuli image. From these plotted feature maps, it's possible to see what characteristics of an image the network finds interesting. For a sign, maybe the inner network feature maps react with high activation to the sign's boundary outline or to the contrast in the sign's painted symbol.\n",
    "\n",
    " Provided for you below is the function code that allows you to get the visualization output of any tensorflow weight layer you want. The inputs to the function should be a stimuli image, one used during training or a new one you provided, and then the tensorflow variable name that represents the layer's state during the training process, for instance if you wanted to see what the [LeNet lab's](https://classroom.udacity.com/nanodegrees/nd013/parts/fbf77062-5703-404e-b60c-95b78b2f3f9e/modules/6df7ae49-c61c-4bb2-a23e-6527e69209ec/lessons/601ae704-1035-4287-8b11-e2c2716217ad/concepts/d4aca031-508f-4e0b-b493-e7b706120f81) feature maps looked like for it's second convolutional layer you could enter conv2 as the tf_activation variable.\n",
    "\n",
    "For an example of what feature map outputs look like, check out NVIDIA's results in their paper [End-to-End Deep Learning for Self-Driving Cars](https://devblogs.nvidia.com/parallelforall/deep-learning-self-driving-cars/) in the section Visualization of internal CNN State. NVIDIA was able to show that their network's inner weights had high activations to road boundary lines by comparing feature maps from an image with a clear path to one without. Try experimenting with a similar test to show that your trained network's weights are looking for interesting features, whether it's looking at differences in feature maps from images with or without a sign, or even what feature maps look like in a trained network vs a completely untrained one on the same sign image.\n",
    "\n",
    "<figure>\n",
    " <img src=\"visualize_cnn.png\" width=\"380\" alt=\"Combined Image\" />\n",
    " <figcaption>\n",
    " <p></p> \n",
    " <p style=\"text-align: center;\"> Your output should look something like this (above)</p> \n",
    " </figcaption>\n",
    "</figure>\n",
    " <p></p> \n"
   ]
  },
  {
   "cell_type": "code",
   "execution_count": null,
   "metadata": {
    "collapsed": true
   },
   "outputs": [],
   "source": [
    "### Visualize your network's feature maps here.\n",
    "### Feel free to use as many code cells as needed.\n",
    "\n",
    "# image_input: the test image being fed into the network to produce the feature maps\n",
    "# tf_activation: should be a tf variable name used during your training procedure that represents the calculated state of a specific weight layer\n",
    "# activation_min/max: can be used to view the activation contrast in more detail, by default matplot sets min and max to the actual min and max values of the output\n",
    "# plt_num: used to plot out multiple different weight feature map sets on the same block, just extend the plt number for each new feature map entry\n",
    "\n",
    "def outputFeatureMap(image_input, tf_activation, activation_min=-1, activation_max=-1 ,plt_num=1):\n",
    "    # Here make sure to preprocess your image_input in a way your network expects\n",
    "    # with size, normalization, ect if needed\n",
    "    # image_input =\n",
    "    # Note: x should be the same name as your network's tensorflow data placeholder variable\n",
    "    # If you get an error tf_activation is not defined it may be having trouble accessing the variable from inside a function\n",
    "    activation = tf_activation.eval(session=sess,feed_dict={x : image_input})\n",
    "    featuremaps = activation.shape[3]\n",
    "    plt.figure(plt_num, figsize=(15,15))\n",
    "    for featuremap in range(featuremaps):\n",
    "        plt.subplot(6,8, featuremap+1) # sets the number of feature maps to show on each row and column\n",
    "        plt.title('FeatureMap ' + str(featuremap)) # displays the feature map number\n",
    "        if activation_min != -1 & activation_max != -1:\n",
    "            plt.imshow(activation[0,:,:, featuremap], interpolation=\"nearest\", vmin =activation_min, vmax=activation_max, cmap=\"gray\")\n",
    "        elif activation_max != -1:\n",
    "            plt.imshow(activation[0,:,:, featuremap], interpolation=\"nearest\", vmax=activation_max, cmap=\"gray\")\n",
    "        elif activation_min !=-1:\n",
    "            plt.imshow(activation[0,:,:, featuremap], interpolation=\"nearest\", vmin=activation_min, cmap=\"gray\")\n",
    "        else:\n",
    "            plt.imshow(activation[0,:,:, featuremap], interpolation=\"nearest\", cmap=\"gray\")"
   ]
  }
 ],
 "metadata": {
  "anaconda-cloud": {},
  "kernelspec": {
   "display_name": "Python 3",
   "language": "python",
   "name": "python3"
  },
  "language_info": {
   "codemirror_mode": {
    "name": "ipython",
    "version": 3
   },
   "file_extension": ".py",
   "mimetype": "text/x-python",
   "name": "python",
   "nbconvert_exporter": "python",
   "pygments_lexer": "ipython3",
   "version": "3.5.2"
  },
  "widgets": {
   "state": {},
   "version": "1.1.2"
  }
 },
 "nbformat": 4,
 "nbformat_minor": 1
}
